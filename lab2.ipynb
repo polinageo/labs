{
 "cells": [
  {
   "cell_type": "markdown",
   "id": "b87e8bcc",
   "metadata": {},
   "source": [
    "Полина Чижик, вариант 1 Число нейронов в скрытом слое - 20 Шаг градиентного спуска - 0.01\n",
    "\n",
    "1 задание\n",
    "\n",
    "Кросс-энтропия (Перекрестная энтропия) – это Функция потерь (Loss Function), \n",
    "которую можно использовать для количественной оценки разницы между двумя Распределениями вероятностей. Кросс-энтропия измеряет расхождение между двумя вероятностными распределениями. Если кросс-энтропия велика, это означает, что разница между двумя распределениями велика, а если кросс-энтропия мала, то распределения похожи друг на друга.\n",
    "\n",
    "Регресс Softmax - это форма логистической регрессии, которая нормализует входное значение в вектор значений, который следует распределению вероятности, общая сумма которого равна 1. Выходные значения находятся в диапазоне [0,1]\n",
    "\n",
    "2 задание"
   ]
  },
  {
   "cell_type": "code",
   "execution_count": 2,
   "id": "10351a61",
   "metadata": {},
   "outputs": [
    {
     "data": {
      "text/plain": [
       "(178, 13)"
      ]
     },
     "execution_count": 2,
     "metadata": {},
     "output_type": "execute_result"
    }
   ],
   "source": [
    "import torch\n",
    "import random\n",
    "import numpy as np\n",
    "import sklearn.datasets\n",
    "\n",
    "from sklearn.model_selection import train_test_split \n",
    "\n",
    "random.seed(0)\n",
    "np.random.seed(0)\n",
    "torch.manual_seed(0)\n",
    "torch.cuda.manual_seed(0)\n",
    "torch.backends.cudnn.deterministic = True\n",
    "wine = sklearn.datasets.load_wine()\n",
    "wine.data.shape"
   ]
  },
  {
   "cell_type": "code",
   "execution_count": 3,
   "id": "82e9b95b",
   "metadata": {},
   "outputs": [],
   "source": [
    "X_train, X_test, y_train, y_test = train_test_split(\n",
    "    wine.data[:, :2],\n",
    "    wine.target, \n",
    "    test_size=0.3, \n",
    "    shuffle=True\n",
    ") \n",
    "X_train = torch.FloatTensor(X_train) \n",
    "X_test = torch.FloatTensor(X_test) \n",
    "y_train = torch.LongTensor(y_train) \n",
    "y_test = torch.LongTensor(y_test)"
   ]
  },
  {
   "cell_type": "code",
   "execution_count": 4,
   "id": "510838a3",
   "metadata": {},
   "outputs": [],
   "source": [
    "class WineNet(torch.nn.Module):\n",
    "    def __init__(self,  n_hidden_neurons, activation = 'sigmoid',n_layers = 3):\n",
    "        super(WineNet, self).__init__()\n",
    "        if activation == 'sigmoid':\n",
    "            act = torch.nn.Sigmoid()\n",
    "        elif activation == 'relu':\n",
    "            act = torch.nn.ReLU()\n",
    "        self.act = act\n",
    "        self.fc1 = torch.nn.Linear(2, n_hidden_neurons)\n",
    "        self.hidden_layers = torch.nn.Sequential()\n",
    "        for i in range(n_layers):\n",
    "            self.hidden_layers.add_module(f'hidden_{i}',torch.nn.Linear(n_hidden_neurons, n_hidden_neurons))\n",
    "            self.hidden_layers.add_module(f'act_{i}',act)\n",
    "        self.fc3 = torch.nn.Linear(n_hidden_neurons, 3)\n",
    "        self.sm = torch.nn.Softmax(dim=1)\n",
    "\n",
    "    def forward(self, x):\n",
    "        x = self.fc1(x)\n",
    "        x = self.act(x)\n",
    "        x = self.hidden_layers(x)\n",
    "        x = self.fc3(x)\n",
    "        return x\n",
    "    def inference(self, x):\n",
    "        x = self.forward(x)\n",
    "        x = self.sm(x)\n",
    "        return x"
   ]
  },
  {
   "cell_type": "code",
   "execution_count": null,
   "id": "b5e83141",
   "metadata": {},
   "outputs": [],
   "source": [
    "Создадим нейронную сеть"
   ]
  },
  {
   "cell_type": "code",
   "execution_count": 5,
   "id": "2a7b33f0",
   "metadata": {},
   "outputs": [
    {
     "name": "stdout",
     "output_type": "stream",
     "text": [
      "tensor(0.4074)\n",
      "tensor(0.5185)\n",
      "tensor(0.5370)\n",
      "tensor(0.5370)\n",
      "tensor(0.5370)\n",
      "tensor(0.5370)\n",
      "tensor(0.5370)\n",
      "tensor(0.5370)\n",
      "tensor(0.5370)\n",
      "tensor(0.5370)\n",
      "tensor(0.5370)\n",
      "tensor(0.5370)\n",
      "tensor(0.5370)\n",
      "tensor(0.5370)\n",
      "tensor(0.5370)\n",
      "tensor(0.5370)\n",
      "tensor(0.5370)\n",
      "tensor(0.5370)\n",
      "tensor(0.5556)\n",
      "tensor(0.4630)\n",
      "tensor(0.5556)\n",
      "tensor(0.5000)\n",
      "tensor(0.5000)\n",
      "tensor(0.5556)\n",
      "tensor(0.5370)\n",
      "tensor(0.5000)\n",
      "tensor(0.5370)\n",
      "tensor(0.5370)\n",
      "tensor(0.5000)\n",
      "tensor(0.4815)\n",
      "tensor(0.5000)\n",
      "tensor(0.5370)\n",
      "tensor(0.5370)\n",
      "tensor(0.5185)\n",
      "tensor(0.5556)\n",
      "tensor(0.5556)\n",
      "tensor(0.5370)\n",
      "tensor(0.5556)\n",
      "tensor(0.5370)\n",
      "tensor(0.5370)\n",
      "tensor(0.5370)\n",
      "tensor(0.5370)\n",
      "tensor(0.5370)\n",
      "tensor(0.5370)\n",
      "tensor(0.5370)\n",
      "tensor(0.5370)\n",
      "tensor(0.5370)\n",
      "tensor(0.5370)\n",
      "tensor(0.5370)\n",
      "tensor(0.5370)\n"
     ]
    }
   ],
   "source": [
    "wine_net = WineNet(2)\n",
    "loss = torch.nn.CrossEntropyLoss()\n",
    "optimizer = torch.optim.Adam(wine_net.parameters(), lr=0.01)\n",
    "batch_size = 10\n",
    "\n",
    "for epoch in range(5000):\n",
    "    order = np.random.permutation(len(X_train))\n",
    "    for start_index in range(0, len(X_train), batch_size):\n",
    "        optimizer.zero_grad()\n",
    "        batch_indexes = order[start_index:start_index+batch_size]\n",
    "        x_batch = X_train[batch_indexes]\n",
    "        y_batch = y_train[batch_indexes]\n",
    "        preds = wine_net.forward(x_batch) \n",
    "        loss_value = loss(preds, y_batch)\n",
    "        loss_value.backward()\n",
    "        optimizer.step()\n",
    "        \n",
    "    if epoch % 100 == 0:\n",
    "        test_preds = wine_net.forward(X_test)\n",
    "        test_preds = test_preds.argmax(dim=1)\n",
    "        print((test_preds == y_test).float().mean())"
   ]
  },
  {
   "cell_type": "code",
   "execution_count": 6,
   "id": "3686e295",
   "metadata": {},
   "outputs": [
    {
     "name": "stderr",
     "output_type": "stream",
     "text": [
      "d:\\python\\projects_384\\po\\venv\\lib\\site-packages\\torch\\functional.py:478: UserWarning: torch.meshgrid: in an upcoming release, it will be required to pass the indexing argument. (Triggered internally at  ..\\aten\\src\\ATen\\native\\TensorShape.cpp:2895.)\n",
      "  return _VF.meshgrid(tensors, **kwargs)  # type: ignore[attr-defined]\n",
      "C:\\Users\\Дмитрий\\AppData\\Local\\Temp\\ipykernel_9420\\2529696004.py:25: UserWarning: Creating a tensor from a list of numpy.ndarrays is extremely slow. Please consider converting the list to a single numpy.ndarray with numpy.array() before converting to a tensor. (Triggered internally at  ..\\torch\\csrc\\utils\\tensor_new.cpp:204.)\n",
      "  plt.scatter(X_train[indexes, 0],\n"
     ]
    },
    {
     "data": {
      "image/png": "[encoded data removed]",
      "text/plain": [
       "<Figure size 1000x800 with 1 Axes>"
      ]
     },
     "metadata": {},
     "output_type": "display_data"
    }
   ],
   "source": [
    "import matplotlib.pyplot as plt\n",
    "%matplotlib inline\n",
    "\n",
    "plt.rcParams['figure.figsize'] = (10, 8)\n",
    "\n",
    "n_classes = 3\n",
    "plot_colors = ['g', 'orange', 'black']\n",
    "plot_step = 0.02\n",
    "\n",
    "x_min, x_max = X_train[:, 0].min() - 1, X_train[:, 0].max() + 1\n",
    "y_min, y_max = X_train[:, 1].min() - 1, X_train[:, 1].max() + 1\n",
    "\n",
    "xx, yy =  torch.meshgrid(torch.arange(x_min, x_max, plot_step),\n",
    "                         torch.arange(y_min, y_max, plot_step))\n",
    "\n",
    "preds = wine_net.inference(\n",
    "    torch.cat([xx.reshape(-1, 1), yy.reshape(-1, 1)], dim=1))\n",
    "\n",
    "preds_class = preds.data.numpy().argmax(axis=1)\n",
    "preds_class = preds_class.reshape(xx.shape)\n",
    "plt.contourf(xx, yy, preds_class, cmap='Accent')\n",
    "\n",
    "for i, color in zip(range(n_classes), plot_colors):\n",
    "    indexes = np.where(y_train == i)\n",
    "    plt.scatter(X_train[indexes, 0], \n",
    "                X_train[indexes, 1], \n",
    "                c=color, \n",
    "                label=wine.target_names[i],\n",
    "                cmap='Accent')\n",
    "    plt.xlabel(wine.feature_names[0])\n",
    "    plt.ylabel(wine.feature_names[1])\n",
    "    plt.legend()"
   ]
  },
  {
   "cell_type": "code",
   "execution_count": null,
   "id": "cd386976",
   "metadata": {},
   "outputs": [],
   "source": [
    "Как видно, обучение нейронной сети с 2 нейронами на скрытом слое проходит неудачно.\n",
    "Если повысить количество нейронов до 3, то обучение будет работать успешно. \n",
    "Из этого можно сделать вывод, что минимальное значение n_hidden_neurons, \n",
    "при котором сеть дает неудовлетворительные результаты равно 2.\n",
    "\n",
    "3 задание\n",
    "\n",
    "На обучение нейросети прямо влияет количество нейронов в скрытом слое. При увеличении их количества прямо пропорционально растет и точность при обучении сети (следует из опыта, описанного выше)."
   ]
  },
  {
   "cell_type": "code",
   "execution_count": 6,
   "id": "0bd1860a",
   "metadata": {},
   "outputs": [
    {
     "name": "stdout",
     "output_type": "stream",
     "text": [
      "tensor(0.4074)\n",
      "tensor(0.7778)\n",
      "tensor(0.7963)\n",
      "tensor(0.8148)\n",
      "tensor(0.7593)\n"
     ]
    }
   ],
   "source": [
    "wine_net2 = WineNet(20, \"sigmoid\", 3)\n",
    "optimizer2 = torch.optim.Adam(wine_net2.parameters(), lr=0.01)\n",
    "for epoch in range(5000):\n",
    "    order = np.random.permutation(len(X_train))\n",
    "    for start_index in range(0, len(X_train), batch_size):\n",
    "        optimizer2.zero_grad()\n",
    "        batch_indexes = order[start_index:start_index+batch_size]\n",
    "        x_batch = X_train[batch_indexes]\n",
    "        y_batch = y_train[batch_indexes]\n",
    "        preds = wine_net2.forward(x_batch) \n",
    "        loss_value = loss(preds, y_batch)\n",
    "        loss_value.backward()\n",
    "        optimizer2.step()\n",
    "        \n",
    "    if epoch % 1000 == 0:\n",
    "        test_preds = wine_net2.forward(X_test)\n",
    "        test_preds = test_preds.argmax(dim=1)\n",
    "        print((test_preds == y_test).float().mean())"
   ]
  },
  {
   "cell_type": "code",
   "execution_count": 7,
   "id": "1e7ca1c6",
   "metadata": {},
   "outputs": [
    {
     "name": "stdout",
     "output_type": "stream",
     "text": [
      "tensor(0.4074)\n",
      "tensor(0.8333)\n",
      "tensor(0.7963)\n",
      "tensor(0.7407)\n",
      "tensor(0.7963)\n"
     ]
    }
   ],
   "source": [
    "wine_net3 = WineNet(20, \"sigmoid\", 4)\n",
    "optimizer3 = torch.optim.Adam(wine_net3.parameters(), lr=0.01)\n",
    "for epoch in range(5000):\n",
    "    order = np.random.permutation(len(X_train))\n",
    "    for start_index in range(0, len(X_train), batch_size):\n",
    "        optimizer3.zero_grad()\n",
    "        batch_indexes = order[start_index:start_index+batch_size]\n",
    "        x_batch = X_train[batch_indexes]\n",
    "        y_batch = y_train[batch_indexes]\n",
    "        preds = wine_net3.forward(x_batch) \n",
    "        loss_value = loss(preds, y_batch)\n",
    "        loss_value.backward()\n",
    "        optimizer3.step()\n",
    "        \n",
    "    if epoch % 1000 == 0:\n",
    "        test_preds = wine_net3.forward(X_test)\n",
    "        test_preds = test_preds.argmax(dim=1)\n",
    "        print((test_preds == y_test).float().mean())"
   ]
  },
  {
   "cell_type": "code",
   "execution_count": null,
   "id": "09fecbc7",
   "metadata": {},
   "outputs": [],
   "source": [
    "качество не зависит от слоев"
   ]
  },
  {
   "cell_type": "code",
   "execution_count": 8,
   "id": "a461c240",
   "metadata": {},
   "outputs": [
    {
     "name": "stdout",
     "output_type": "stream",
     "text": [
      "tensor(0.4074)\n",
      "tensor(0.7037)\n",
      "tensor(0.8519)\n",
      "tensor(0.8519)\n",
      "tensor(0.8333)\n"
     ]
    }
   ],
   "source": [
    "wine_net4 = WineNet(20, \"sigmoid\", 3)\n",
    "optimizer4 = torch.optim.Adam(wine_net4.parameters(), lr=0.001)\n",
    "for epoch in range(5000):\n",
    "    order = np.random.permutation(len(X_train))\n",
    "    for start_index in range(0, len(X_train), batch_size):\n",
    "        optimizer4.zero_grad()\n",
    "        batch_indexes = order[start_index:start_index+batch_size]\n",
    "        x_batch = X_train[batch_indexes]\n",
    "        y_batch = y_train[batch_indexes]\n",
    "        preds = wine_net4.forward(x_batch) \n",
    "        loss_value = loss(preds, y_batch)\n",
    "        loss_value.backward()\n",
    "        optimizer4.step()\n",
    "        \n",
    "    if epoch % 1000 == 0:\n",
    "        test_preds = wine_net4.forward(X_test)\n",
    "        test_preds = test_preds.argmax(dim=1)\n",
    "        print((test_preds == y_test).float().mean())"
   ]
  },
  {
   "cell_type": "code",
   "execution_count": 9,
   "id": "2877ffa3",
   "metadata": {},
   "outputs": [
    {
     "name": "stdout",
     "output_type": "stream",
     "text": [
      "tensor(0.3519)\n",
      "tensor(0.8519)\n",
      "tensor(0.8519)\n",
      "tensor(0.8704)\n",
      "tensor(0.8519)\n"
     ]
    }
   ],
   "source": [
    "wine_net5 = WineNet(20, \"relu\", 3)\n",
    "optimizer5 = torch.optim.Adam(wine_net5.parameters(), lr=0.001)\n",
    "for epoch in range(5000):\n",
    "    order = np.random.permutation(len(X_train))\n",
    "    for start_index in range(0, len(X_train), batch_size):\n",
    "        optimizer5.zero_grad()\n",
    "        batch_indexes = order[start_index:start_index+batch_size]\n",
    "        x_batch = X_train[batch_indexes]\n",
    "        y_batch = y_train[batch_indexes]\n",
    "        preds = wine_net5.forward(x_batch) \n",
    "        loss_value = loss(preds, y_batch)\n",
    "        loss_value.backward() \n",
    "        optimizer5.step()\n",
    "        \n",
    "    if epoch % 1000 == 0:\n",
    "        test_preds = wine_net5.forward(X_test)\n",
    "        test_preds = test_preds.argmax(dim=1)\n",
    "        print((test_preds == y_test).float().mean())"
   ]
  },
  {
   "cell_type": "code",
   "execution_count": null,
   "id": "e87e6fb7",
   "metadata": {},
   "outputs": [],
   "source": [
    "Способ активации не повлияла на качество её обучения\n",
    "\n",
    "4 задание\n",
    "\n",
    "Изучим влияние на точность предсказаний"
   ]
  },
  {
   "cell_type": "code",
   "execution_count": 10,
   "id": "f17d1a50",
   "metadata": {},
   "outputs": [
    {
     "name": "stdout",
     "output_type": "stream",
     "text": [
      "test_size = 0.1\n",
      "tensor(0.5000)\n",
      "tensor(0.6667)\n",
      "tensor(0.6667)\n",
      "tensor(0.6667)\n",
      "tensor(0.6667)\n",
      "test_size = 0.2\n",
      "tensor(0.5278)\n",
      "tensor(0.8333)\n",
      "tensor(0.8333)\n",
      "tensor(0.7500)\n",
      "tensor(0.7778)\n",
      "test_size = 0.30000000000000004\n",
      "tensor(0.3519)\n",
      "tensor(0.8148)\n",
      "tensor(0.7778)\n",
      "tensor(0.8148)\n",
      "tensor(0.7593)\n",
      "test_size = 0.4\n",
      "tensor(0.4583)\n",
      "tensor(0.8194)\n",
      "tensor(0.7361)\n",
      "tensor(0.7500)\n",
      "tensor(0.7917)\n",
      "test_size = 0.5\n",
      "tensor(0.3596)\n",
      "tensor(0.6966)\n",
      "tensor(0.7191)\n",
      "tensor(0.6966)\n",
      "tensor(0.7416)\n",
      "test_size = 0.6\n",
      "tensor(0.3832)\n",
      "tensor(0.7757)\n",
      "tensor(0.7850)\n",
      "tensor(0.7477)\n",
      "tensor(0.7383)\n",
      "test_size = 0.7000000000000001\n",
      "tensor(0.3600)\n",
      "tensor(0.7760)\n",
      "tensor(0.7680)\n",
      "tensor(0.7600)\n",
      "tensor(0.7280)\n",
      "test_size = 0.8\n",
      "tensor(0.3916)\n",
      "tensor(0.5664)\n",
      "tensor(0.6573)\n",
      "tensor(0.6783)\n",
      "tensor(0.6923)\n"
     ]
    }
   ],
   "source": [
    "for i in np.linspace(0.1,0.8,8):\n",
    "    print(\"test_size = \" + str(i))\n",
    "    X_train, X_test, y_train, y_test = train_test_split(\n",
    "          wine.data[:, :2],\n",
    "    wine.target, \n",
    "    test_size=i, \n",
    "    shuffle=True) \n",
    "    X_train = torch.FloatTensor(X_train) \n",
    "    X_test = torch.FloatTensor(X_test) \n",
    "    y_train = torch.LongTensor(y_train) \n",
    "    y_test = torch.LongTensor(y_test)\n",
    "\n",
    "    wine_net6 = WineNet(20, \"sigmoid\", 3)\n",
    "    optimizer6 = torch.optim.Adam(wine_net6.parameters(), lr=0.01)\n",
    "    for epoch in range(5000):\n",
    "        order = np.random.permutation(len(X_train))\n",
    "        for start_index in range(0, len(X_train), batch_size):\n",
    "            optimizer6.zero_grad()\n",
    "\n",
    "            batch_indexes = order[start_index:start_index+batch_size]\n",
    "\n",
    "            x_batch = X_train[batch_indexes]\n",
    "            y_batch = y_train[batch_indexes]\n",
    "\n",
    "            preds = wine_net6.forward(x_batch) \n",
    "\n",
    "            loss_value = loss(preds, y_batch)\n",
    "            loss_value.backward()\n",
    "\n",
    "            optimizer6.step()\n",
    "\n",
    "        if epoch % 1000 == 0:\n",
    "            test_preds = wine_net6.forward(X_test)\n",
    "            test_preds = test_preds.argmax(dim=1)\n",
    "            print((test_preds == y_test).float().mean())"
   ]
  },
  {
   "cell_type": "code",
   "execution_count": 11,
   "id": "2be39eb5",
   "metadata": {},
   "outputs": [
    {
     "name": "stdout",
     "output_type": "stream",
     "text": [
      "base_rate :0.398876404494382\n"
     ]
    }
   ],
   "source": [
    "base_rate = len(wine.target[wine.target == 1]) / len(wine.target)\n",
    "print('base_rate :' + str(base_rate))"
   ]
  },
  {
   "cell_type": "code",
   "execution_count": null,
   "id": "03ba40aa",
   "metadata": {},
   "outputs": [],
   "source": [
    "при test_size, примерно равном base_rate =0.4, точность предсказаний составила 0.8148;\n",
    "при test_size = 0.6 и 0.8 точность получилась ниже\n",
    "\n",
    "5 задание\n",
    "\n",
    "Изучим поведение нейросети при изменении значения  batch_size"
   ]
  },
  {
   "cell_type": "code",
   "execution_count": 12,
   "id": "41401bee",
   "metadata": {},
   "outputs": [
    {
     "name": "stdout",
     "output_type": "stream",
     "text": [
      "batch size = 10\n",
      "tensor(0.3916)\n",
      "tensor(0.6713)\n",
      "tensor(0.6783)\n",
      "tensor(0.6783)\n",
      "tensor(0.6853)\n",
      "working time = 32.159708738327026\n",
      "batch size = 50\n",
      "tensor(0.3916)\n",
      "tensor(0.6853)\n",
      "tensor(0.6853)\n",
      "tensor(0.6853)\n",
      "tensor(0.6853)\n",
      "working time = 8.50899624824524\n",
      "batch size = 100\n",
      "tensor(0.3916)\n",
      "tensor(0.5105)\n",
      "tensor(0.5804)\n",
      "tensor(0.4825)\n",
      "tensor(0.4895)\n",
      "working time = 9.14599871635437\n",
      "batch size = 1000\n",
      "tensor(0.3916)\n",
      "tensor(0.6993)\n",
      "tensor(0.6503)\n",
      "tensor(0.6503)\n",
      "tensor(0.6503)\n",
      "working time = 8.649410486221313\n"
     ]
    }
   ],
   "source": [
    "from time import time\n",
    "bss = [10,50,100,1000]\n",
    "times = []\n",
    "for bs in bss:\n",
    "    print('batch size = ' + str(bs))\n",
    "    wine_net = WineNet(20)\n",
    "    optimizer = torch.optim.Adam(wine_net.parameters(), lr=0.01)\n",
    "    start_time = time()\n",
    "    for epoch in range(5000):\n",
    "        order = np.random.permutation(len(X_train))\n",
    "        for start_index in range(0, len(X_train), bs):\n",
    "            optimizer.zero_grad()\n",
    "        \n",
    "            batch_indexes = order[start_index:start_index+bs]\n",
    "        \n",
    "            x_batch = X_train[batch_indexes]\n",
    "            y_batch = y_train[batch_indexes]\n",
    "        \n",
    "            preds = wine_net.forward(x_batch) \n",
    "        \n",
    "            loss_value = loss(preds, y_batch)\n",
    "            loss_value.backward()\n",
    "        \n",
    "            optimizer.step()\n",
    "        \n",
    "        if epoch % 1000 == 0:\n",
    "            test_preds = wine_net.forward(X_test)\n",
    "            test_preds = test_preds.argmax(dim=1)\n",
    "            print((test_preds == y_test).float().mean())\n",
    "    finish_time = time()\n",
    "    print('working time = '+ str(finish_time - start_time))"
   ]
  },
  {
   "cell_type": "code",
   "execution_count": null,
   "id": "fed44c62",
   "metadata": {},
   "outputs": [],
   "source": [
    "При увеличении значения batch_size обучение происходит быстрее"
   ]
  },
  {
   "cell_type": "code",
   "execution_count": null,
   "id": "02e1b9a3",
   "metadata": {},
   "outputs": [],
   "source": []
  }
 ],
 "metadata": {
  "kernelspec": {
   "display_name": "Python 3 (ipykernel)",
   "language": "python",
   "name": "python3"
  },
  "language_info": {
   "codemirror_mode": {
    "name": "ipython",
    "version": 3
   },
   "file_extension": ".py",
   "mimetype": "text/x-python",
   "name": "python",
   "nbconvert_exporter": "python",
   "pygments_lexer": "ipython3",
   "version": "3.10.1"
  }
 },
 "nbformat": 4,
 "nbformat_minor": 5
}
