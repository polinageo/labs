{
 "cells": [
  {
   "cell_type": "code",
   "execution_count": null,
   "id": "0c801679",
   "metadata": {
    "id": "86ff0f62"
   },
   "outputs": [],
   "source": [
    "Полина Чижик, лабораторная работа №6"
   ]
  },
  {
   "cell_type": "markdown",
   "id": "252465df",
   "metadata": {
    "id": "MV_x-sx7zVWq"
   },
   "source": [
    "Исключение или дропаут (от англ. dropout) — метод регуляризации искусственных нейронных сетей, предназначен для уменьшения переобучения сети за счет предотвращения сложных коадаптаций отдельных нейронов на тренировочных данных во время обучения. Термин «dropout» (выбивание, выбрасывание) характеризует исключение определённого процента (например 30%) случайных нейронов (находящихся как в скрытых, так и видимых слоях) на разных итерациях (эпохах) во время обучения нейронной сети.\n",
    "\n",
    "Регуляризация - метод добавления некоторых дополнительных ограничений к условию с целью решить некорректно поставленную задачу или предотвратить переобучение. Эта информация часто имеет вид штрафа за сложность модели."
   ]
  },
  {
   "cell_type": "code",
   "execution_count": null,
   "id": "317b8d8f",
   "metadata": {
    "id": "317b8d8f"
   },
   "outputs": [],
   "source": [
    "import torch\n",
    "import torchvision.datasets\n",
    "\n",
    "import random\n",
    "import numpy as np\n",
    "import pandas as pd\n",
    "import matplotlib.pyplot as plt\n",
    "\n",
    "random.seed(0)\n",
    "np.random.seed(0)\n",
    "torch.manual_seed(0)\n",
    "torch.cuda.manual_seed(0)\n",
    "torch.backends.cudnn.deterministic = True"
   ]
  },
  {
   "cell_type": "code",
   "execution_count": null,
   "id": "26fb830d-54ba-4961-b452-289070eeec4b",
   "metadata": {
    "colab": {
     "base_uri": "https://localhost:8080/"
    },
    "id": "26fb830d-54ba-4961-b452-289070eeec4b",
    "outputId": "6a4cf5dd-496e-41df-c375-d0e1235d594d"
   },
   "outputs": [
    {
     "name": "stdout",
     "output_type": "stream",
     "text": [
      "Files already downloaded and verified\n",
      "Files already downloaded and verified\n"
     ]
    }
   ],
   "source": [
    "CIFAR_train = torchvision.datasets.CIFAR10('./', download=True, train=True)\n",
    "CIFAR_test = torchvision.datasets.CIFAR10('./', download=True, train=False)\n",
    "X_test = torch.FloatTensor(CIFAR_test.data) \n",
    "y_test = torch.LongTensor(CIFAR_test.targets)\n",
    "X_train = torch.FloatTensor(CIFAR_train.data) \n",
    "y_train = torch.LongTensor(CIFAR_train.targets) \n",
    "X_train /= 255.\n",
    "X_test /= 255.\n",
    "X_train = X_train.permute(0, 3, 1, 2)\n",
    "X_test = X_test.permute(0, 3, 1, 2)"
   ]
  },
  {
   "cell_type": "code",
   "execution_count": null,
   "id": "5f03dce2",
   "metadata": {
    "id": "5f03dce2"
   },
   "outputs": [],
   "source": [
    "class CIFARNet(torch.nn.Module):\n",
    "    def __init__(self, dropout = 0.15):\n",
    "        super(CIFARNet, self).__init__()\n",
    "        self.batch_norm0 = torch.nn.BatchNorm2d(3)\n",
    "        if dropout:\n",
    "            self.batch_drop1 = torch.nn.Dropout(p=dropout, inplace=False)\n",
    "            self.batch_drop2 = torch.nn.Dropout2d(p=dropout, inplace=False)\n",
    "            self.dropout = dropout\n",
    "        else:\n",
    "            self.dropout = False\n",
    "        self.conv1 = torch.nn.Conv2d(3, 16, 3, padding=1)\n",
    "        self.act1  = torch.nn.ReLU()\n",
    "        self.batch_norm1 = torch.nn.BatchNorm2d(16)\n",
    "        self.pool1 = torch.nn.MaxPool2d(2, 2)\n",
    "        self.conv2 = torch.nn.Conv2d(16, 32, 3, padding=1)\n",
    "        self.act2  = torch.nn.ReLU()\n",
    "        self.batch_norm2 = torch.nn.BatchNorm2d(32)\n",
    "        self.pool2 = torch.nn.MaxPool2d(2, 2)\n",
    "        self.conv3 = torch.nn.Conv2d(32, 64, 3, padding=1)\n",
    "        self.act3  = torch.nn.ReLU()\n",
    "        self.batch_norm3 = torch.nn.BatchNorm2d(64)\n",
    "        self.fc1   = torch.nn.Linear(8 * 8 * 64, 256)\n",
    "        self.act4  = torch.nn.Tanh()\n",
    "        self.batch_norm4 = torch.nn.BatchNorm1d(256)\n",
    "        self.fc2   = torch.nn.Linear(256, 64)\n",
    "        self.act5  = torch.nn.Tanh()\n",
    "        self.batch_norm5 = torch.nn.BatchNorm1d(64)\n",
    "        self.fc3   = torch.nn.Linear(64, 10)\n",
    "    \n",
    "    def forward(self, x):\n",
    "        x = self.batch_norm0(x)\n",
    "        if self.dropout:\n",
    "            x = self.batch_drop2(x)\n",
    "        x = self.conv1(x)\n",
    "        x = self.act1(x)\n",
    "        x = self.batch_norm1(x)\n",
    "        if self.dropout:\n",
    "            x = self.batch_drop2(x)\n",
    "        x = self.pool1(x)\n",
    "        x = self.conv2(x)\n",
    "        x = self.act2(x)\n",
    "        x = self.batch_norm2(x)\n",
    "        if self.dropout:\n",
    "            x = self.batch_drop2(x)\n",
    "        x = self.pool2(x)\n",
    "        x = self.conv3(x)\n",
    "        x = self.act3(x)\n",
    "        x = self.batch_norm3(x)\n",
    "        if self.dropout:\n",
    "            x = self.batch_drop2(x)\n",
    "        x = x.view(x.size(0), x.size(1) * x.size(2) * x.size(3))\n",
    "        x = self.fc1(x)\n",
    "        x = self.act4(x)\n",
    "        x = self.batch_norm4(x)\n",
    "        if self.dropout:\n",
    "            x = self.batch_drop1(x)\n",
    "        x = self.fc2(x)\n",
    "        x = self.act5(x)\n",
    "        x = self.batch_norm5(x)\n",
    "        if self.dropout:\n",
    "            x = self.batch_drop1(x)\n",
    "        x = self.fc3(x)\n",
    "        return x"
   ]
  },
  {
   "cell_type": "code",
   "execution_count": null,
   "id": "e1fdb64a",
   "metadata": {
    "id": "e1fdb64a"
   },
   "outputs": [],
   "source": [
    "def train(net,X_train, y_train, \n",
    "          X_test, y_test,\n",
    "          device = 'cuda', \n",
    "          epochs = 30,\n",
    "          grad_clip = 1,\n",
    "          batch_size = 100):\n",
    "    net = net.to(device)\n",
    "    loss = torch.nn.CrossEntropyLoss().to(device)\n",
    "    optimizer = torch.optim.Adam(net.parameters(), lr=1.0e-3,weight_decay=1e-5)\n",
    "    test_accuracy_history = []\n",
    "    test_loss_history = []\n",
    "    train_loss_history = [] \n",
    "    X_test = X_test.to(device)\n",
    "    y_test = y_test.to(device)\n",
    "    for epoch in range(epochs):\n",
    "        order = np.random.permutation(len(X_train)) \n",
    "        train_epoch_loss_history = []\n",
    "        for start_index in range(0, len(X_train), batch_size):\n",
    "            optimizer.zero_grad()\n",
    "            net.train()\n",
    "            batch_indexes = order[start_index:start_index+batch_size]\n",
    "            X_batch = X_train[batch_indexes].to(device)\n",
    "            y_batch = y_train[batch_indexes].to(device)\n",
    "            preds = net.forward(X_batch) \n",
    "            loss_value = loss(preds, y_batch)\n",
    "            loss_value.backward()\n",
    "            if grad_clip:\n",
    "                torch.nn.utils.clip_grad_norm_(net.parameters(), grad_clip)\n",
    "            train_epoch_loss_history.append(loss_value.cpu().item())\n",
    "            optimizer.step()\n",
    "        net.eval()\n",
    "        with torch.no_grad(): \n",
    "             test_preds = net.forward(X_test)     \n",
    "             test_loss_history.append(loss(test_preds, y_test).item())\n",
    "        accuracy = (test_preds.argmax(dim=1) == y_test).float().mean().item()\n",
    "        test_accuracy_history.append(accuracy)\n",
    "        train_loss_history.append(np.mean(train_epoch_loss_history))\n",
    "        if epoch%10==0:\n",
    "          print(f'Epoch: {epoch}, accuracy = {accuracy}');\n",
    "    print(f'Max test accuracy {max(test_accuracy_history)}')\n",
    "    return test_accuracy_history, test_loss_history"
   ]
  },
  {
   "cell_type": "code",
   "execution_count": null,
   "id": "3moQa5G7bCv9",
   "metadata": {
    "colab": {
     "base_uri": "https://localhost:8080/"
    },
    "id": "3moQa5G7bCv9",
    "outputId": "003c1d68-f785-40a0-b8ab-e4772259cbd1"
   },
   "outputs": [
    {
     "data": {
      "text/plain": [
       "True"
      ]
     },
     "execution_count": 5,
     "metadata": {},
     "output_type": "execute_result"
    }
   ],
   "source": [
    "torch.cuda.is_available()"
   ]
  },
  {
   "cell_type": "markdown",
   "id": "KFjw-JKVzzWt",
   "metadata": {
    "id": "KFjw-JKVzzWt"
   },
   "source": [
    "1 задание"
   ]
  },
  {
   "cell_type": "code",
   "execution_count": null,
   "id": "41d3dbe9",
   "metadata": {
    "colab": {
     "base_uri": "https://localhost:8080/"
    },
    "id": "41d3dbe9",
    "outputId": "7f0d0607-a87d-41fd-ce25-8d370fcf6ec9",
    "scrolled": true
   },
   "outputs": [
    {
     "name": "stdout",
     "output_type": "stream",
     "text": [
      "Epoch: 0, accuracy = 0.5952999591827393\n",
      "Epoch: 10, accuracy = 0.7001999616622925\n",
      "---------------\n",
      "Max test accuracy 0.7013999819755554\n",
      "---------------\n"
     ]
    }
   ],
   "source": [
    "net = CIFARNet(dropout=0)\n",
    "test_accuracy_history, test_loss_history = train(\n",
    "    net,\n",
    "    X_train, \n",
    "    y_train, \n",
    "    X_test, \n",
    "    y_test,\n",
    "    device = 'cuda', \n",
    "    epochs = 20,\n",
    "    grad_clip = 0,\n",
    "    batch_size = 1024\n",
    ")"
   ]
  },
  {
   "cell_type": "markdown",
   "id": "fb37c87e",
   "metadata": {
    "id": "ef8ae114"
   },
   "source": [
    "Максимальная точность предсказаний без дропаута - 70 %"
   ]
  },
  {
   "cell_type": "code",
   "execution_count": null,
   "id": "42c86ca4",
   "metadata": {
    "colab": {
     "base_uri": "https://localhost:8080/",
     "height": 283
    },
    "id": "42c86ca4",
    "outputId": "63b84bb5-2f79-46b5-bce1-8b730560481e"
   },
   "outputs": [
    {
     "data": {
      "text/plain": [
       "<matplotlib.axes._subplots.AxesSubplot at 0x7fca05124190>"
      ]
     },
     "execution_count": 7,
     "metadata": {},
     "output_type": "execute_result"
    },
    {
     "data": {
      "image/png": "[encoded data removed]",
      "text/plain": [
       "<Figure size 432x288 with 1 Axes>"
      ]
     },
     "metadata": {
      "needs_background": "light"
     },
     "output_type": "display_data"
    }
   ],
   "source": [
    "pd.DataFrame(dict(test_accuracy = test_accuracy_history,test_loss = test_loss_history )).plot()"
   ]
  },
  {
   "cell_type": "markdown",
   "id": "n45WyuRMz2ij",
   "metadata": {
    "id": "n45WyuRMz2ij"
   },
   "source": [
    "2 задание"
   ]
  },
  {
   "cell_type": "code",
   "execution_count": null,
   "id": "67d5c4c7",
   "metadata": {
    "colab": {
     "base_uri": "https://localhost:8080/",
     "height": 412
    },
    "id": "67d5c4c7",
    "outputId": "e78b4e21-d5bb-494a-8644-0ec2cf613631",
    "scrolled": true
   },
   "outputs": [
    {
     "name": "stdout",
     "output_type": "stream",
     "text": [
      "Epoch: 0, accuracy = 0.47529998421669006\n",
      "Epoch: 10, accuracy = 0.7060999870300293\n",
      "Epoch: 20, accuracy = 0.7197999954223633\n",
      "Epoch: 30, accuracy = 0.7127000093460083\n",
      "---------------\n",
      "Max test accuracy 0.723800003528595\n",
      "---------------\n"
     ]
    },
    {
     "data": {
      "text/plain": [
       "<matplotlib.axes._subplots.AxesSubplot at 0x7fca08130610>"
      ]
     },
     "execution_count": 8,
     "metadata": {},
     "output_type": "execute_result"
    },
    {
     "data": {
      "image/png": "[encoded data removed]",
      "text/plain": [
       "<Figure size 432x288 with 1 Axes>"
      ]
     },
     "metadata": {
      "needs_background": "light"
     },
     "output_type": "display_data"
    }
   ],
   "source": [
    "net = CIFARNet(dropout=0.15)\n",
    "\n",
    "test_accuracy_history, test_loss_history = train(\n",
    "    net,\n",
    "    X_train, \n",
    "    y_train, \n",
    "    X_test, \n",
    "    y_test,\n",
    "    device = 'cuda', \n",
    "    epochs = 40,\n",
    "    grad_clip = 0,\n",
    "    batch_size = 1024\n",
    ")\n",
    "\n",
    "pd.DataFrame(dict(test_accuracy = test_accuracy_history,test_loss = test_loss_history)).plot()"
   ]
  },
  {
   "cell_type": "code",
   "execution_count": null,
   "id": "b059e0a4",
   "metadata": {
    "id": "c1a951e7"
   },
   "outputs": [],
   "source": [
    "После добавления дропаута со значением 0.15 качество предсказаний сети выросло "
   ]
  },
  {
   "cell_type": "code",
   "execution_count": null,
   "id": "89e9d64b",
   "metadata": {
    "colab": {
     "base_uri": "https://localhost:8080/",
     "height": 1000
    },
    "id": "89e9d64b",
    "outputId": "632c4c88-a4c3-46a4-d91a-3f48ef393634",
    "scrolled": true
   },
   "outputs": [
    {
     "name": "stdout",
     "output_type": "stream",
     "text": [
      "Epoch: 0, accuracy = 0.29019999504089355\n",
      "Epoch: 10, accuracy = 0.49959999322891235\n",
      "Epoch: 20, accuracy = 0.5640999674797058\n",
      "Epoch: 30, accuracy = 0.5938000082969666\n",
      "Epoch: 40, accuracy = 0.6186999678611755\n",
      "Epoch: 50, accuracy = 0.626800000667572\n",
      "Epoch: 60, accuracy = 0.6437000036239624\n",
      "Epoch: 70, accuracy = 0.6452999711036682\n",
      "Epoch: 80, accuracy = 0.6541999578475952\n",
      "Epoch: 90, accuracy = 0.6561999917030334\n",
      "Epoch: 100, accuracy = 0.6688999533653259\n",
      "Epoch: 110, accuracy = 0.6694999933242798\n",
      "Epoch: 120, accuracy = 0.6735000014305115\n",
      "Epoch: 130, accuracy = 0.6735000014305115\n",
      "Epoch: 140, accuracy = 0.6776999831199646\n",
      "Epoch: 150, accuracy = 0.6800999641418457\n",
      "Epoch: 160, accuracy = 0.6833999752998352\n",
      "Epoch: 170, accuracy = 0.6832999587059021\n",
      "Epoch: 180, accuracy = 0.6924999952316284\n",
      "Epoch: 190, accuracy = 0.6937999725341797\n",
      "Epoch: 200, accuracy = 0.6933000087738037\n",
      "Epoch: 210, accuracy = 0.6974999904632568\n",
      "Epoch: 220, accuracy = 0.6951999664306641\n",
      "Epoch: 230, accuracy = 0.7005999684333801\n",
      "Epoch: 240, accuracy = 0.7005999684333801\n",
      "Epoch: 250, accuracy = 0.6985999941825867\n",
      "Epoch: 260, accuracy = 0.7040999531745911\n",
      "Epoch: 270, accuracy = 0.7069000005722046\n",
      "Epoch: 280, accuracy = 0.7080000042915344\n",
      "Epoch: 290, accuracy = 0.7087000012397766\n",
      "Epoch: 300, accuracy = 0.7069999575614929\n",
      "Epoch: 310, accuracy = 0.7089999914169312\n",
      "Epoch: 320, accuracy = 0.7095999717712402\n",
      "Epoch: 330, accuracy = 0.7102000117301941\n",
      "Epoch: 340, accuracy = 0.7111999988555908\n",
      "Epoch: 350, accuracy = 0.7141000032424927\n",
      "Epoch: 360, accuracy = 0.7116999626159668\n",
      "Epoch: 370, accuracy = 0.711899995803833\n",
      "Epoch: 380, accuracy = 0.7135999798774719\n",
      "Epoch: 390, accuracy = 0.7157999873161316\n",
      "---------------\n",
      "Max test accuracy 0.7173999547958374\n",
      "---------------\n"
     ]
    },
    {
     "data": {
      "text/plain": [
       "<matplotlib.axes._subplots.AxesSubplot at 0x7fca0508ee50>"
      ]
     },
     "execution_count": 9,
     "metadata": {},
     "output_type": "execute_result"
    },
    {
     "data": {
      "image/png": "[encoded data removed]",
      "text/plain": [
       "<Figure size 432x288 with 1 Axes>"
      ]
     },
     "metadata": {
      "needs_background": "light"
     },
     "output_type": "display_data"
    }
   ],
   "source": [
    "net = CIFARNet(dropout=0.5)\n",
    "\n",
    "test_accuracy_history, test_loss_history = train(\n",
    "    net,\n",
    "    X_train, \n",
    "    y_train, \n",
    "    X_test, \n",
    "    y_test,\n",
    "    device = 'cuda', \n",
    "    epochs = 400,\n",
    "    grad_clip = 0,\n",
    "    batch_size = 1024\n",
    ")\n",
    "\n",
    "pd.DataFrame(dict(test_accuracy = test_accuracy_history,test_loss = test_loss_history )).plot()"
   ]
  },
  {
   "cell_type": "code",
   "execution_count": null,
   "id": "kJxkNXyGVZXH",
   "metadata": {
    "id": "kJxkNXyGVZXH"
   },
   "outputs": [],
   "source": [
    "preds = net.forward(X_test.cuda()).argmax(dim=1).cpu().detach()"
   ]
  },
  {
   "cell_type": "markdown",
   "id": "604c7a26",
   "metadata": {
    "id": "e45121c9"
   },
   "source": [
    "После увеличения дропаута с 0.15 до 0.5 качество не выросло."
   ]
  },
  {
   "cell_type": "markdown",
   "id": "VKRBORD-z4wm",
   "metadata": {
    "id": "VKRBORD-z4wm"
   },
   "source": [
    "3 задание"
   ]
  },
  {
   "cell_type": "code",
   "execution_count": null,
   "id": "22b4e33e",
   "metadata": {
    "id": "22b4e33e"
   },
   "outputs": [],
   "source": [
    "preds = pd.DataFrame([y_test.numpy(),preds.numpy()]).T"
   ]
  },
  {
   "cell_type": "code",
   "execution_count": null,
   "id": "2e5642db",
   "metadata": {
    "colab": {
     "base_uri": "https://localhost:8080/"
    },
    "id": "2e5642db",
    "outputId": "40522f8b-166b-47cf-81bd-b11d9b553a65",
    "scrolled": true
   },
   "outputs": [
    {
     "data": {
      "text/plain": [
       "0    5\n",
       "1    4\n",
       "Name: 24, dtype: int64"
      ]
     },
     "execution_count": 12,
     "metadata": {},
     "output_type": "execute_result"
    }
   ],
   "source": [
    "preds[preds[0] != preds[1]].iloc[4]"
   ]
  },
  {
   "cell_type": "code",
   "execution_count": null,
   "id": "f8dda6f5",
   "metadata": {
    "colab": {
     "base_uri": "https://localhost:8080/",
     "height": 284
    },
    "id": "f8dda6f5",
    "outputId": "3b832ffd-a900-40c7-b4e1-e1c140b6a9b6"
   },
   "outputs": [
    {
     "name": "stdout",
     "output_type": "stream",
     "text": [
      "truck truck\n"
     ]
    },
    {
     "data": {
      "image/png": "[encoded data removed]",
      "text/plain": [
       "<Figure size 432x288 with 1 Axes>"
      ]
     },
     "metadata": {
      "needs_background": "light"
     },
     "output_type": "display_data"
    }
   ],
   "source": [
    "plt.imshow(X_test[11].permute(1,2,0))\n",
    "print(CIFAR_test.classes[y_test[11].item()],CIFAR_test.classes[preds[1][11]]) "
   ]
  },
  {
   "cell_type": "markdown",
   "id": "7ce6274e",
   "metadata": {},
   "source": [
    "Опознано верно"
   ]
  }
 ],
 "metadata": {
  "accelerator": "GPU",
  "colab": {
   "collapsed_sections": [],
   "name": "Копия блокнота \"Lab6.ipynb\"",
   "provenance": []
  },
  "kernelspec": {
   "display_name": "Python 3 (ipykernel)",
   "language": "python",
   "name": "python3"
  },
  "language_info": {
   "codemirror_mode": {
    "name": "ipython",
    "version": 3
   },
   "file_extension": ".py",
   "mimetype": "text/x-python",
   "name": "python",
   "nbconvert_exporter": "python",
   "pygments_lexer": "ipython3",
   "version": "3.10.1"
  }
 },
 "nbformat": 4,
 "nbformat_minor": 5
}
